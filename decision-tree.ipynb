{
  "nbformat": 4,
  "nbformat_minor": 0,
  "metadata": {
    "colab": {
      "provenance": []
    },
    "kernelspec": {
      "name": "python3",
      "display_name": "Python 3"
    },
    "language_info": {
      "name": "python"
    }
  },
  "cells": [
    {
      "cell_type": "code",
      "execution_count": null,
      "metadata": {
        "id": "gQTKUqtF6Uve"
      },
      "outputs": [],
      "source": [
        "import pandas as pd\n",
        "import numpy as np\n",
        "from sklearn.preprocessing import normalize\n",
        "from sklearn.ensemble import RandomForestClassifier\n",
        "from sklearn.tree import DecisionTreeClassifier\n",
        "from sklearn.ensemble import BaggingClassifier"
      ]
    },
    {
      "cell_type": "code",
      "source": [
        "def load_clean_data(path):\n",
        "  df = pd.read_csv(path)\n",
        "  df.drop(['PassengerId','Name', 'Ticket', 'Cabin'], axis=1, inplace=True)\n",
        "  df = df.dropna()\n",
        "  df.Sex = df.Sex.replace({'female': 0, 'male': 1})\n",
        "  df.Embarked = df.Embarked.replace({'S': 0, 'C':1, 'Q':2})\n",
        "  return df\n",
        "\n"
      ],
      "metadata": {
        "id": "PiKoLb29K1qX"
      },
      "execution_count": null,
      "outputs": []
    },
    {
      "cell_type": "code",
      "source": [
        "from google.colab import drive\n",
        "drive.mount('/content/drive')"
      ],
      "metadata": {
        "id": "dES-J5fmMqK3"
      },
      "execution_count": null,
      "outputs": []
    },
    {
      "cell_type": "code",
      "source": [
        "train_data_path = '/content/drive/MyDrive/Colab Notebooks/Domaci2/titanic/train.csv'\n",
        "test_data_path = '/content/drive/MyDrive/Colab Notebooks/Domaci2/titanic/test.csv'\n",
        "#ucitavanje\n",
        "df_train = load_clean_data(train_data_path)\n",
        "df_test = load_clean_data(test_data_path)\n",
        "\n",
        "#Model bolje radi kada se izbaci ova kolona\n",
        "# df_train.drop(['Embarked'], axis=1, inplace=True)\n",
        "# df_test.drop(['Embarked'], axis=1, inplace=True)\n",
        "\n",
        "#rasporedjivanje podataka za trening\n",
        "y_train = df_train.Survived.to_numpy()\n",
        "df_train.drop(['Survived'], axis=1, inplace=True)\n",
        "x_train = df_train.to_numpy()\n",
        "\n",
        "#rasporedjivanje podataka za testiranje\n",
        "y_test = df_test.Survived.to_numpy()\n",
        "df_test.drop(['Survived'], axis=1, inplace=True)\n",
        "x_test = df_test.to_numpy()\n",
        "\n",
        "#fitovanje stabla odlucivanja\n",
        "model = RandomForestClassifier(n_estimators=100, random_state = 0)\n",
        "model.fit(x_train,y_train)\n",
        "\n",
        "#Evaluacija modela\n",
        "predictions = model.predict(x_test)\n",
        "\n",
        "positive_predictions = np.where(predictions == 1)\n",
        "negative_predictions = np.where(predictions == 0)\n",
        "\n",
        "TP = np.sum((y_test[positive_predictions] == 1).astype(int))\n",
        "TN = np.sum((y_test[negative_predictions] == 0).astype(int))\n",
        "FP = np.sum((y_test[positive_predictions] == 0).astype(int))\n",
        "FN = np.sum((y_test[negative_predictions] == 1).astype(int))\n",
        "\n",
        "nb_test = y_test.shape[0]\n",
        "print('RandomForest')\n",
        "print('Total test samples: {}'.format(nb_test))\n",
        "print('TP = {}, TN = {}, FP = {}, FN = {}'.format(TP, TN, FP, FN))\n",
        "\n",
        "\n",
        "accuracy = (TP + TN) / nb_test\n",
        "precision = TP / (TP + FP) if TP + FP > 0 else -1\n",
        "recall = TP / (TP + FN) if TP + FN > 0 else -1\n",
        "print('A = {:.2f}, P = {:.2f}, R = {:.2f}'.format(accuracy, precision, recall))\n",
        "\n",
        "\n",
        "#Bagging\n",
        "tree = DecisionTreeClassifier()\n",
        "bag = BaggingClassifier(tree, n_estimators=100, max_samples=0.8, random_state=1)\n",
        "\n",
        "bag.fit(x_train, y_train)\n",
        "\n",
        "#Evaluacija modela\n",
        "predictions = bag.predict(x_test)\n",
        "\n",
        "positive_predictions = np.where(predictions == 1)\n",
        "negative_predictions = np.where(predictions == 0)\n",
        "\n",
        "TP = np.sum((y_test[positive_predictions] == 1).astype(int))\n",
        "TN = np.sum((y_test[negative_predictions] == 0).astype(int))\n",
        "FP = np.sum((y_test[positive_predictions] == 0).astype(int))\n",
        "FN = np.sum((y_test[negative_predictions] == 1).astype(int))\n",
        "\n",
        "nb_test = y_test.shape[0]\n",
        "print('Bagging')\n",
        "print('Total test samples: {}'.format(nb_test))\n",
        "print('TP = {}, TN = {}, FP = {}, FN = {}'.format(TP, TN, FP, FN))\n",
        "\n",
        "\n",
        "accuracy = (TP + TN) / nb_test\n",
        "precision = TP / (TP + FP) if TP + FP > 0 else -1\n",
        "recall = TP / (TP + FN) if TP + FN > 0 else -1\n",
        "print('A = {:.2f}, P = {:.2f}, R = {:.2f}'.format(accuracy, precision, recall))\n",
        "\n",
        "\n",
        "\n",
        "\n",
        "\n",
        "\n",
        "\n",
        "\n",
        "\n"
      ],
      "metadata": {
        "colab": {
          "base_uri": "https://localhost:8080/"
        },
        "id": "lyQfY2457Z1x",
        "outputId": "7fea48e4-811e-4052-8e24-c9c61e500437"
      },
      "execution_count": null,
      "outputs": [
        {
          "output_type": "stream",
          "name": "stdout",
          "text": [
            "RandomForest\n",
            "Total test samples: 331\n",
            "TP = 97, TN = 172, FP = 32, FN = 30\n",
            "A = 0.81, P = 0.75, R = 0.76\n",
            "Bagging\n",
            "Total test samples: 331\n",
            "TP = 99, TN = 177, FP = 27, FN = 28\n",
            "A = 0.83, P = 0.79, R = 0.78\n"
          ]
        }
      ]
    }
  ]
}